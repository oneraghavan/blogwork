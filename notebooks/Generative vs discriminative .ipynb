{
 "cells": [
  {
   "cell_type": "code",
   "execution_count": 22,
   "metadata": {
    "collapsed": false
   },
   "outputs": [
    {
     "name": "stdout",
     "output_type": "stream",
     "text": [
      "[[  9.99999949e-01   5.05653254e-08]]\n",
      "[[  1.00000000e+00   1.57098733e-20]]\n"
     ]
    }
   ],
   "source": [
    "import numpy as np\n",
    "X_independent = np.array(\n",
    "    [\n",
    "        [-1, -1], \n",
    "        [-2, -1],\n",
    "        [-3, -2],\n",
    "        [ 1,  1],\n",
    "        [ 2,  1],\n",
    "        [3 ,  2]\n",
    "    ])\n",
    "\n",
    "X_dependent = np.array(\n",
    "    [\n",
    "        [-1, -1 , -2,-2,0], \n",
    "        [-2, -1 , -4,-2,0],\n",
    "        [-3, -2 , -6,-4,-1],\n",
    "        [ 1,  1 , 2,2,2],\n",
    "        [ 2,  1 , 4,2,2],\n",
    "        [3 ,  2 , 6,4,3]\n",
    "    ])\n",
    "Y = np.array([1, 1, 1, 2, 2, 2])\n",
    "from sklearn.naive_bayes import GaussianNB\n",
    "clf1 = GaussianNB()\n",
    "clf1.fit(X_independent, Y)\n",
    "print(clf1.predict_proba([[-0.8, -1]]))\n",
    "\n",
    "clf2 = GaussianNB()\n",
    "clf2.fit(X_dependent, Y)\n",
    "print(clf2.predict_proba([[-0.8, -1,-1.6,-2,0]]))"
   ]
  },
  {
   "cell_type": "code",
   "execution_count": 23,
   "metadata": {
    "collapsed": false
   },
   "outputs": [
    {
     "name": "stdout",
     "output_type": "stream",
     "text": [
      "[[ 0.78807615  0.21192385]]\n",
      "[[ 0.8896808  0.1103192]]\n"
     ]
    }
   ],
   "source": [
    "from sklearn.linear_model import LogisticRegression\n",
    "clf1 = LogisticRegression()\n",
    "clf1.fit(X_independent, Y)\n",
    "print(clf1.predict_proba([[-0.8, -1]]))\n",
    "clf2 = LogisticRegression()\n",
    "clf2.fit(X_dependent, Y)\n",
    "print(clf2.predict_proba([[-0.8, -1,-1.6,-2,0]]))"
   ]
  }
 ],
 "metadata": {
  "anaconda-cloud": {},
  "kernelspec": {
   "display_name": "Python [conda root]",
   "language": "python",
   "name": "conda-root-py"
  },
  "language_info": {
   "codemirror_mode": {
    "name": "ipython",
    "version": 2
   },
   "file_extension": ".py",
   "mimetype": "text/x-python",
   "name": "python",
   "nbconvert_exporter": "python",
   "pygments_lexer": "ipython2",
   "version": "2.7.12"
  }
 },
 "nbformat": 4,
 "nbformat_minor": 1
}
